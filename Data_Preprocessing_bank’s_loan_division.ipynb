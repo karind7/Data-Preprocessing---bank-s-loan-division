{
  "nbformat": 4,
  "nbformat_minor": 0,
  "metadata": {
    "ExecuteTimeLog": [
      {
        "duration": 1620,
        "start_time": "2021-07-23T14:01:44.704Z"
      },
      {
        "duration": 56,
        "start_time": "2021-07-23T14:01:46.327Z"
      },
      {
        "duration": 14,
        "start_time": "2021-07-23T14:01:46.386Z"
      },
      {
        "duration": 56,
        "start_time": "2021-07-23T14:01:46.403Z"
      },
      {
        "duration": 19,
        "start_time": "2021-07-23T14:01:46.482Z"
      },
      {
        "duration": 16,
        "start_time": "2021-07-23T14:01:46.503Z"
      },
      {
        "duration": 18,
        "start_time": "2021-07-23T14:01:46.521Z"
      },
      {
        "duration": 112,
        "start_time": "2021-07-23T14:01:46.541Z"
      },
      {
        "duration": -1657,
        "start_time": "2021-07-23T14:01:48.315Z"
      },
      {
        "duration": -1660,
        "start_time": "2021-07-23T14:01:48.320Z"
      },
      {
        "duration": -1663,
        "start_time": "2021-07-23T14:01:48.325Z"
      },
      {
        "duration": -1665,
        "start_time": "2021-07-23T14:01:48.329Z"
      },
      {
        "duration": -1666,
        "start_time": "2021-07-23T14:01:48.332Z"
      },
      {
        "duration": -1667,
        "start_time": "2021-07-23T14:01:48.334Z"
      },
      {
        "duration": -1666,
        "start_time": "2021-07-23T14:01:48.335Z"
      },
      {
        "duration": -1666,
        "start_time": "2021-07-23T14:01:48.337Z"
      },
      {
        "duration": -1667,
        "start_time": "2021-07-23T14:01:48.340Z"
      },
      {
        "duration": -1671,
        "start_time": "2021-07-23T14:01:48.346Z"
      },
      {
        "duration": -1671,
        "start_time": "2021-07-23T14:01:48.348Z"
      },
      {
        "duration": -1672,
        "start_time": "2021-07-23T14:01:48.351Z"
      },
      {
        "duration": -1673,
        "start_time": "2021-07-23T14:01:48.354Z"
      },
      {
        "duration": -1673,
        "start_time": "2021-07-23T14:01:48.355Z"
      },
      {
        "duration": -1677,
        "start_time": "2021-07-23T14:01:48.361Z"
      },
      {
        "duration": -1678,
        "start_time": "2021-07-23T14:01:48.363Z"
      },
      {
        "duration": -1677,
        "start_time": "2021-07-23T14:01:48.364Z"
      },
      {
        "duration": -1678,
        "start_time": "2021-07-23T14:01:48.366Z"
      },
      {
        "duration": -1681,
        "start_time": "2021-07-23T14:01:48.370Z"
      },
      {
        "duration": -1681,
        "start_time": "2021-07-23T14:01:48.372Z"
      },
      {
        "duration": -1729,
        "start_time": "2021-07-23T14:01:48.421Z"
      },
      {
        "duration": -1730,
        "start_time": "2021-07-23T14:01:48.424Z"
      },
      {
        "duration": -1730,
        "start_time": "2021-07-23T14:01:48.425Z"
      },
      {
        "duration": -1729,
        "start_time": "2021-07-23T14:01:48.426Z"
      },
      {
        "duration": -1730,
        "start_time": "2021-07-23T14:01:48.428Z"
      },
      {
        "duration": 104,
        "start_time": "2021-07-23T14:01:58.351Z"
      },
      {
        "duration": 690,
        "start_time": "2021-07-23T14:02:13.368Z"
      },
      {
        "duration": 535,
        "start_time": "2021-07-23T14:02:31.489Z"
      },
      {
        "duration": 114,
        "start_time": "2021-07-23T14:03:33.402Z"
      },
      {
        "duration": 1520,
        "start_time": "2021-07-23T14:04:47.216Z"
      },
      {
        "duration": 54,
        "start_time": "2021-07-23T14:04:48.739Z"
      },
      {
        "duration": 15,
        "start_time": "2021-07-23T14:04:48.799Z"
      },
      {
        "duration": 83,
        "start_time": "2021-07-23T14:04:48.816Z"
      },
      {
        "duration": 19,
        "start_time": "2021-07-23T14:04:48.901Z"
      },
      {
        "duration": 12,
        "start_time": "2021-07-23T14:04:48.923Z"
      },
      {
        "duration": 71812,
        "start_time": "2021-07-23T14:04:48.937Z"
      },
      {
        "duration": 11,
        "start_time": "2021-07-23T14:06:00.754Z"
      },
      {
        "duration": 9,
        "start_time": "2021-07-23T14:06:00.784Z"
      },
      {
        "duration": 60,
        "start_time": "2021-07-23T14:06:00.795Z"
      },
      {
        "duration": 12,
        "start_time": "2021-07-23T14:06:00.857Z"
      },
      {
        "duration": 14,
        "start_time": "2021-07-23T14:06:00.883Z"
      },
      {
        "duration": 16,
        "start_time": "2021-07-23T14:06:00.899Z"
      },
      {
        "duration": 18,
        "start_time": "2021-07-23T14:06:00.918Z"
      },
      {
        "duration": 4,
        "start_time": "2021-07-23T14:06:00.939Z"
      },
      {
        "duration": 43,
        "start_time": "2021-07-23T14:06:00.945Z"
      },
      {
        "duration": 1630,
        "start_time": "2021-07-23T14:06:00.991Z"
      },
      {
        "duration": 7,
        "start_time": "2021-07-23T14:06:02.623Z"
      },
      {
        "duration": 58,
        "start_time": "2021-07-23T14:06:02.632Z"
      },
      {
        "duration": 733,
        "start_time": "2021-07-23T14:06:02.692Z"
      },
      {
        "duration": -1774,
        "start_time": "2021-07-23T14:06:05.203Z"
      },
      {
        "duration": -1777,
        "start_time": "2021-07-23T14:06:05.208Z"
      },
      {
        "duration": -1778,
        "start_time": "2021-07-23T14:06:05.211Z"
      },
      {
        "duration": -1777,
        "start_time": "2021-07-23T14:06:05.212Z"
      },
      {
        "duration": -1777,
        "start_time": "2021-07-23T14:06:05.213Z"
      },
      {
        "duration": -1778,
        "start_time": "2021-07-23T14:06:05.215Z"
      },
      {
        "duration": -1777,
        "start_time": "2021-07-23T14:06:05.216Z"
      },
      {
        "duration": -1778,
        "start_time": "2021-07-23T14:06:05.218Z"
      },
      {
        "duration": -1778,
        "start_time": "2021-07-23T14:06:05.220Z"
      },
      {
        "duration": -1777,
        "start_time": "2021-07-23T14:06:05.221Z"
      },
      {
        "duration": -1777,
        "start_time": "2021-07-23T14:06:05.223Z"
      },
      {
        "duration": -1845,
        "start_time": "2021-07-23T14:06:05.293Z"
      },
      {
        "duration": 440,
        "start_time": "2021-07-23T14:06:43.275Z"
      },
      {
        "duration": 431,
        "start_time": "2021-07-23T14:07:58.830Z"
      },
      {
        "duration": 468,
        "start_time": "2021-07-23T14:08:08.267Z"
      },
      {
        "duration": 81,
        "start_time": "2021-07-23T14:10:08.739Z"
      },
      {
        "duration": 420,
        "start_time": "2021-07-23T14:10:20.382Z"
      },
      {
        "duration": 9,
        "start_time": "2021-07-23T14:10:57.927Z"
      },
      {
        "duration": 9,
        "start_time": "2021-07-23T14:11:05.769Z"
      },
      {
        "duration": 465,
        "start_time": "2021-07-23T14:11:28.227Z"
      },
      {
        "duration": 540,
        "start_time": "2021-07-23T14:11:47.818Z"
      },
      {
        "duration": 486,
        "start_time": "2021-07-23T14:11:54.380Z"
      },
      {
        "duration": 5,
        "start_time": "2021-07-23T14:12:07.546Z"
      },
      {
        "duration": 59,
        "start_time": "2021-07-23T14:12:07.555Z"
      },
      {
        "duration": 16,
        "start_time": "2021-07-23T14:12:07.618Z"
      },
      {
        "duration": 81,
        "start_time": "2021-07-23T14:12:07.637Z"
      },
      {
        "duration": 21,
        "start_time": "2021-07-23T14:12:07.721Z"
      },
      {
        "duration": 11,
        "start_time": "2021-07-23T14:12:07.744Z"
      },
      {
        "duration": 1509,
        "start_time": "2021-07-23T14:12:51.508Z"
      },
      {
        "duration": 52,
        "start_time": "2021-07-23T14:12:53.021Z"
      },
      {
        "duration": 14,
        "start_time": "2021-07-23T14:12:53.076Z"
      },
      {
        "duration": 61,
        "start_time": "2021-07-23T14:12:53.093Z"
      },
      {
        "duration": 36,
        "start_time": "2021-07-23T14:12:53.157Z"
      },
      {
        "duration": 11,
        "start_time": "2021-07-23T14:12:53.195Z"
      },
      {
        "duration": 741,
        "start_time": "2021-07-23T14:12:53.208Z"
      },
      {
        "duration": -1786,
        "start_time": "2021-07-23T14:12:55.739Z"
      },
      {
        "duration": -1786,
        "start_time": "2021-07-23T14:12:55.741Z"
      },
      {
        "duration": -1786,
        "start_time": "2021-07-23T14:12:55.743Z"
      },
      {
        "duration": -1785,
        "start_time": "2021-07-23T14:12:55.744Z"
      },
      {
        "duration": -1785,
        "start_time": "2021-07-23T14:12:55.745Z"
      },
      {
        "duration": -1786,
        "start_time": "2021-07-23T14:12:55.747Z"
      },
      {
        "duration": -1785,
        "start_time": "2021-07-23T14:12:55.748Z"
      },
      {
        "duration": -1785,
        "start_time": "2021-07-23T14:12:55.749Z"
      },
      {
        "duration": -1784,
        "start_time": "2021-07-23T14:12:55.751Z"
      },
      {
        "duration": -1783,
        "start_time": "2021-07-23T14:12:55.752Z"
      },
      {
        "duration": -1783,
        "start_time": "2021-07-23T14:12:55.753Z"
      },
      {
        "duration": -1887,
        "start_time": "2021-07-23T14:12:55.859Z"
      },
      {
        "duration": -1909,
        "start_time": "2021-07-23T14:12:55.882Z"
      },
      {
        "duration": -1912,
        "start_time": "2021-07-23T14:12:55.886Z"
      },
      {
        "duration": -1911,
        "start_time": "2021-07-23T14:12:55.887Z"
      },
      {
        "duration": -1911,
        "start_time": "2021-07-23T14:12:55.888Z"
      },
      {
        "duration": -1911,
        "start_time": "2021-07-23T14:12:55.889Z"
      },
      {
        "duration": -1910,
        "start_time": "2021-07-23T14:12:55.890Z"
      },
      {
        "duration": -1911,
        "start_time": "2021-07-23T14:12:55.892Z"
      },
      {
        "duration": -1911,
        "start_time": "2021-07-23T14:12:55.893Z"
      },
      {
        "duration": -1910,
        "start_time": "2021-07-23T14:12:55.894Z"
      },
      {
        "duration": -1911,
        "start_time": "2021-07-23T14:12:55.896Z"
      },
      {
        "duration": -1910,
        "start_time": "2021-07-23T14:12:55.897Z"
      },
      {
        "duration": -1910,
        "start_time": "2021-07-23T14:12:55.898Z"
      },
      {
        "duration": -1910,
        "start_time": "2021-07-23T14:12:55.899Z"
      },
      {
        "duration": -1910,
        "start_time": "2021-07-23T14:12:55.901Z"
      },
      {
        "duration": 5,
        "start_time": "2021-07-23T14:14:21.752Z"
      },
      {
        "duration": 74,
        "start_time": "2021-07-23T14:14:21.760Z"
      },
      {
        "duration": 13,
        "start_time": "2021-07-23T14:14:21.837Z"
      },
      {
        "duration": 55,
        "start_time": "2021-07-23T14:14:21.852Z"
      },
      {
        "duration": 18,
        "start_time": "2021-07-23T14:14:21.910Z"
      },
      {
        "duration": 10,
        "start_time": "2021-07-23T14:14:21.930Z"
      },
      {
        "duration": 85,
        "start_time": "2021-07-23T14:14:21.943Z"
      },
      {
        "duration": -1665,
        "start_time": "2021-07-23T14:14:23.697Z"
      },
      {
        "duration": -1712,
        "start_time": "2021-07-23T14:14:23.745Z"
      },
      {
        "duration": -1711,
        "start_time": "2021-07-23T14:14:23.746Z"
      },
      {
        "duration": -1711,
        "start_time": "2021-07-23T14:14:23.748Z"
      },
      {
        "duration": -1711,
        "start_time": "2021-07-23T14:14:23.750Z"
      },
      {
        "duration": -1712,
        "start_time": "2021-07-23T14:14:23.752Z"
      },
      {
        "duration": -1725,
        "start_time": "2021-07-23T14:14:23.766Z"
      },
      {
        "duration": -1725,
        "start_time": "2021-07-23T14:14:23.768Z"
      },
      {
        "duration": -1725,
        "start_time": "2021-07-23T14:14:23.769Z"
      },
      {
        "duration": -1725,
        "start_time": "2021-07-23T14:14:23.771Z"
      },
      {
        "duration": -1725,
        "start_time": "2021-07-23T14:14:23.772Z"
      },
      {
        "duration": -1756,
        "start_time": "2021-07-23T14:14:23.805Z"
      },
      {
        "duration": -1758,
        "start_time": "2021-07-23T14:14:23.809Z"
      },
      {
        "duration": -1759,
        "start_time": "2021-07-23T14:14:23.811Z"
      },
      {
        "duration": -1759,
        "start_time": "2021-07-23T14:14:23.812Z"
      },
      {
        "duration": -1759,
        "start_time": "2021-07-23T14:14:23.813Z"
      },
      {
        "duration": -1759,
        "start_time": "2021-07-23T14:14:23.814Z"
      },
      {
        "duration": -1803,
        "start_time": "2021-07-23T14:14:23.859Z"
      },
      {
        "duration": -1804,
        "start_time": "2021-07-23T14:14:23.861Z"
      },
      {
        "duration": -1804,
        "start_time": "2021-07-23T14:14:23.863Z"
      },
      {
        "duration": -1805,
        "start_time": "2021-07-23T14:14:23.864Z"
      },
      {
        "duration": -1804,
        "start_time": "2021-07-23T14:14:23.865Z"
      },
      {
        "duration": -1804,
        "start_time": "2021-07-23T14:14:23.866Z"
      },
      {
        "duration": -1803,
        "start_time": "2021-07-23T14:14:23.867Z"
      },
      {
        "duration": -1818,
        "start_time": "2021-07-23T14:14:23.883Z"
      },
      {
        "duration": -1815,
        "start_time": "2021-07-23T14:14:23.885Z"
      },
      {
        "duration": 2543,
        "start_time": "2021-07-23T20:55:53.657Z"
      },
      {
        "duration": 107,
        "start_time": "2021-07-23T20:55:56.257Z"
      },
      {
        "duration": 14,
        "start_time": "2021-07-23T20:55:56.366Z"
      },
      {
        "duration": 115,
        "start_time": "2021-07-23T20:55:56.382Z"
      },
      {
        "duration": 71,
        "start_time": "2021-07-23T20:55:56.500Z"
      },
      {
        "duration": 10,
        "start_time": "2021-07-23T20:55:56.574Z"
      },
      {
        "duration": 97,
        "start_time": "2021-07-23T20:55:56.586Z"
      },
      {
        "duration": 627,
        "start_time": "2021-07-23T20:55:56.059Z"
      },
      {
        "duration": 628,
        "start_time": "2021-07-23T20:55:56.060Z"
      },
      {
        "duration": 627,
        "start_time": "2021-07-23T20:55:56.062Z"
      },
      {
        "duration": 625,
        "start_time": "2021-07-23T20:55:56.066Z"
      },
      {
        "duration": 625,
        "start_time": "2021-07-23T20:55:56.068Z"
      },
      {
        "duration": 574,
        "start_time": "2021-07-23T20:55:56.120Z"
      },
      {
        "duration": 575,
        "start_time": "2021-07-23T20:55:56.121Z"
      },
      {
        "duration": 574,
        "start_time": "2021-07-23T20:55:56.123Z"
      },
      {
        "duration": 574,
        "start_time": "2021-07-23T20:55:56.125Z"
      },
      {
        "duration": 629,
        "start_time": "2021-07-23T20:55:56.127Z"
      },
      {
        "duration": 627,
        "start_time": "2021-07-23T20:55:56.130Z"
      },
      {
        "duration": 622,
        "start_time": "2021-07-23T20:55:56.136Z"
      },
      {
        "duration": 621,
        "start_time": "2021-07-23T20:55:56.139Z"
      },
      {
        "duration": 620,
        "start_time": "2021-07-23T20:55:56.141Z"
      },
      {
        "duration": 619,
        "start_time": "2021-07-23T20:55:56.143Z"
      },
      {
        "duration": 618,
        "start_time": "2021-07-23T20:55:56.145Z"
      },
      {
        "duration": 619,
        "start_time": "2021-07-23T20:55:56.146Z"
      },
      {
        "duration": 615,
        "start_time": "2021-07-23T20:55:56.151Z"
      },
      {
        "duration": 615,
        "start_time": "2021-07-23T20:55:56.152Z"
      },
      {
        "duration": 548,
        "start_time": "2021-07-23T20:55:56.221Z"
      },
      {
        "duration": 547,
        "start_time": "2021-07-23T20:55:56.223Z"
      },
      {
        "duration": 547,
        "start_time": "2021-07-23T20:55:56.224Z"
      },
      {
        "duration": 545,
        "start_time": "2021-07-23T20:55:56.227Z"
      },
      {
        "duration": 546,
        "start_time": "2021-07-23T20:55:56.228Z"
      },
      {
        "duration": 543,
        "start_time": "2021-07-23T20:55:56.233Z"
      },
      {
        "duration": 542,
        "start_time": "2021-07-23T20:55:56.235Z"
      },
      {
        "duration": 469,
        "start_time": "2021-07-24T11:33:24.883Z"
      },
      {
        "duration": 1688,
        "start_time": "2021-07-24T11:33:32.479Z"
      },
      {
        "duration": 63,
        "start_time": "2021-07-24T11:33:34.170Z"
      },
      {
        "duration": 16,
        "start_time": "2021-07-24T11:33:34.236Z"
      },
      {
        "duration": 70,
        "start_time": "2021-07-24T11:33:34.254Z"
      },
      {
        "duration": 20,
        "start_time": "2021-07-24T11:33:34.326Z"
      },
      {
        "duration": 12,
        "start_time": "2021-07-24T11:33:34.348Z"
      },
      {
        "duration": 980,
        "start_time": "2021-07-24T11:33:34.363Z"
      },
      {
        "duration": 305,
        "start_time": "2021-07-24T11:33:35.041Z"
      },
      {
        "duration": 305,
        "start_time": "2021-07-24T11:33:35.042Z"
      },
      {
        "duration": 306,
        "start_time": "2021-07-24T11:33:35.043Z"
      },
      {
        "duration": 306,
        "start_time": "2021-07-24T11:33:35.044Z"
      },
      {
        "duration": 304,
        "start_time": "2021-07-24T11:33:35.048Z"
      },
      {
        "duration": 304,
        "start_time": "2021-07-24T11:33:35.049Z"
      },
      {
        "duration": 303,
        "start_time": "2021-07-24T11:33:35.051Z"
      },
      {
        "duration": 303,
        "start_time": "2021-07-24T11:33:35.053Z"
      },
      {
        "duration": 173,
        "start_time": "2021-07-24T11:33:35.184Z"
      },
      {
        "duration": 172,
        "start_time": "2021-07-24T11:33:35.186Z"
      },
      {
        "duration": 173,
        "start_time": "2021-07-24T11:33:35.187Z"
      },
      {
        "duration": 173,
        "start_time": "2021-07-24T11:33:35.188Z"
      },
      {
        "duration": 173,
        "start_time": "2021-07-24T11:33:35.189Z"
      },
      {
        "duration": 174,
        "start_time": "2021-07-24T11:33:35.190Z"
      },
      {
        "duration": 173,
        "start_time": "2021-07-24T11:33:35.192Z"
      },
      {
        "duration": 172,
        "start_time": "2021-07-24T11:33:35.195Z"
      },
      {
        "duration": 171,
        "start_time": "2021-07-24T11:33:35.197Z"
      },
      {
        "duration": 171,
        "start_time": "2021-07-24T11:33:35.198Z"
      },
      {
        "duration": 172,
        "start_time": "2021-07-24T11:33:35.199Z"
      },
      {
        "duration": 171,
        "start_time": "2021-07-24T11:33:35.201Z"
      },
      {
        "duration": 171,
        "start_time": "2021-07-24T11:33:35.202Z"
      },
      {
        "duration": 171,
        "start_time": "2021-07-24T11:33:35.203Z"
      },
      {
        "duration": 170,
        "start_time": "2021-07-24T11:33:35.205Z"
      },
      {
        "duration": 171,
        "start_time": "2021-07-24T11:33:35.206Z"
      },
      {
        "duration": 171,
        "start_time": "2021-07-24T11:33:35.207Z"
      },
      {
        "duration": 170,
        "start_time": "2021-07-24T11:33:35.209Z"
      },
      {
        "duration": 1555,
        "start_time": "2021-07-24T11:34:08.064Z"
      },
      {
        "duration": 57,
        "start_time": "2021-07-24T11:34:09.621Z"
      },
      {
        "duration": 15,
        "start_time": "2021-07-24T11:34:09.681Z"
      },
      {
        "duration": 59,
        "start_time": "2021-07-24T11:34:09.699Z"
      },
      {
        "duration": 42,
        "start_time": "2021-07-24T11:34:09.760Z"
      },
      {
        "duration": 8,
        "start_time": "2021-07-24T11:34:09.804Z"
      },
      {
        "duration": 1627,
        "start_time": "2021-07-24T11:35:26.001Z"
      },
      {
        "duration": 60,
        "start_time": "2021-07-24T11:35:27.630Z"
      },
      {
        "duration": 15,
        "start_time": "2021-07-24T11:35:27.693Z"
      },
      {
        "duration": 74,
        "start_time": "2021-07-24T11:35:27.711Z"
      },
      {
        "duration": 20,
        "start_time": "2021-07-24T11:35:27.788Z"
      },
      {
        "duration": 9,
        "start_time": "2021-07-24T11:35:27.810Z"
      },
      {
        "duration": 76588,
        "start_time": "2021-07-24T11:35:27.821Z"
      },
      {
        "duration": 7,
        "start_time": "2021-07-24T11:36:44.412Z"
      },
      {
        "duration": 10,
        "start_time": "2021-07-24T11:36:44.422Z"
      },
      {
        "duration": 8,
        "start_time": "2021-07-24T11:36:44.435Z"
      },
      {
        "duration": 78,
        "start_time": "2021-07-24T11:36:44.445Z"
      },
      {
        "duration": 11,
        "start_time": "2021-07-24T11:36:44.526Z"
      },
      {
        "duration": 13,
        "start_time": "2021-07-24T11:36:44.540Z"
      },
      {
        "duration": 36,
        "start_time": "2021-07-24T11:36:44.555Z"
      },
      {
        "duration": 20,
        "start_time": "2021-07-24T11:36:44.593Z"
      },
      {
        "duration": 4,
        "start_time": "2021-07-24T11:36:44.615Z"
      },
      {
        "duration": 12,
        "start_time": "2021-07-24T11:36:44.622Z"
      },
      {
        "duration": 1619,
        "start_time": "2021-07-24T11:36:44.637Z"
      },
      {
        "duration": 5,
        "start_time": "2021-07-24T11:36:46.259Z"
      },
      {
        "duration": 59,
        "start_time": "2021-07-24T11:36:46.266Z"
      },
      {
        "duration": 399,
        "start_time": "2021-07-24T11:36:46.328Z"
      },
      {
        "duration": 7,
        "start_time": "2021-07-24T11:36:46.729Z"
      },
      {
        "duration": 18,
        "start_time": "2021-07-24T11:36:46.738Z"
      },
      {
        "duration": 85,
        "start_time": "2021-07-24T11:36:46.758Z"
      },
      {
        "duration": 404,
        "start_time": "2021-07-24T11:36:46.846Z"
      },
      {
        "duration": 159,
        "start_time": "2021-07-24T11:36:47.252Z"
      },
      {
        "duration": 292,
        "start_time": "2021-07-24T11:36:47.416Z"
      },
      {
        "duration": 77,
        "start_time": "2021-07-24T11:36:47.711Z"
      },
      {
        "duration": 269,
        "start_time": "2021-07-24T11:36:47.790Z"
      },
      {
        "duration": 76,
        "start_time": "2021-07-24T11:36:48.061Z"
      },
      {
        "duration": 277,
        "start_time": "2021-07-24T11:36:48.139Z"
      },
      {
        "duration": 29,
        "start_time": "2021-07-24T11:36:48.418Z"
      },
      {
        "duration": 294,
        "start_time": "2021-07-24T11:36:48.450Z"
      }
    ],
    "colab": {
      "name": "Data Preprocessing - bank’s loan division.ipynb",
      "provenance": [],
      "include_colab_link": true
    },
    "kernelspec": {
      "display_name": "Python 3",
      "language": "python",
      "name": "python3"
    },
    "language_info": {
      "codemirror_mode": {
        "name": "ipython",
        "version": 3
      },
      "file_extension": ".py",
      "mimetype": "text/x-python",
      "name": "python",
      "nbconvert_exporter": "python",
      "pygments_lexer": "ipython3",
      "version": "3.7.8"
    },
    "toc": {
      "base_numbering": 1,
      "nav_menu": {},
      "number_sections": true,
      "sideBar": true,
      "skip_h1_title": true,
      "title_cell": "Table of Contents",
      "title_sidebar": "Contents",
      "toc_cell": false,
      "toc_position": {},
      "toc_section_display": true,
      "toc_window_display": false
    }
  },
  "cells": [
    {
      "cell_type": "markdown",
      "metadata": {
        "id": "view-in-github",
        "colab_type": "text"
      },
      "source": [
        "<a href=\"https://colab.research.google.com/github/karind7/Data-Preprocessing-banks_loan_division/blob/main/Data_Preprocessing_bank%E2%80%99s_loan_division.ipynb\" target=\"_parent\"><img src=\"https://colab.research.google.com/assets/colab-badge.svg\" alt=\"Open In Colab\"/></a>"
      ]
    },
    {
      "cell_type": "markdown",
      "metadata": {
        "id": "JFJ2IYIlIxoY"
      },
      "source": [
        "# **Project description**"
      ]
    },
    {
      "cell_type": "markdown",
      "metadata": {
        "id": "SwBKJcCiIxoZ"
      },
      "source": [
        "Our project is to prepare a report for a bank’s loan division. we will need to find out if a customer’s marital status and number of children have an impact on whether they will default on a loan. The bank already has some data on customers’ credit worthiness.\n",
        "Our report will be considered when building a credit score for a potential customer. A credit score is used to evaluate the ability of a potential borrower to repay their loan."
      ]
    },
    {
      "cell_type": "markdown",
      "metadata": {
        "id": "EFdkHXg7sHcU"
      },
      "source": [
        "# **Step 1: Open the data file and have a look at the general information**"
      ]
    },
    {
      "cell_type": "code",
      "metadata": {
        "id": "Iy5jVcz8QLKp"
      },
      "source": [
        "import pandas as pd\n",
        "from nltk.stem import SnowballStemmer\n",
        "import matplotlib as plt\n",
        "english_stemmer = SnowballStemmer('english')"
      ],
      "execution_count": 83,
      "outputs": []
    },
    {
      "cell_type": "code",
      "metadata": {
        "colab": {
          "base_uri": "https://localhost:8080/"
        },
        "id": "WUZLjw7JJbd7",
        "outputId": "a34ea323-fed9-4e0a-8569-63212d8d607c"
      },
      "source": [
        "try:\n",
        "  from google.colab import drive\n",
        "  drive.mount('/content/drive')\n",
        "except:\n",
        "  pass"
      ],
      "execution_count": 84,
      "outputs": [
        {
          "output_type": "stream",
          "text": [
            "Drive already mounted at /content/drive; to attempt to forcibly remount, call drive.mount(\"/content/drive\", force_remount=True).\n"
          ],
          "name": "stdout"
        }
      ]
    },
    {
      "cell_type": "code",
      "metadata": {
        "id": "vK9i7rd_9uOv"
      },
      "source": [
        "try:\n",
        "  data = pd.read_csv(\"/content/drive/MyDrive/data science/credit_scoring_eng.csv\")\n",
        "except:\n",
        "  data = pd.read_csv(\"/datasets/credit_scoring_eng.csv\")"
      ],
      "execution_count": 85,
      "outputs": []
    },
    {
      "cell_type": "code",
      "metadata": {
        "colab": {
          "base_uri": "https://localhost:8080/"
        },
        "id": "dgEvcO5l-JRE",
        "outputId": "4d056d90-91b6-4d4c-bee5-ec287cb598f6"
      },
      "source": [
        "data.info()\n",
        "#only null values in days_employed  and total_income \n",
        "#lets check for a connection as the number of missing valuse is the same"
      ],
      "execution_count": 86,
      "outputs": [
        {
          "output_type": "stream",
          "text": [
            "<class 'pandas.core.frame.DataFrame'>\n",
            "RangeIndex: 21525 entries, 0 to 21524\n",
            "Data columns (total 12 columns):\n",
            " #   Column            Non-Null Count  Dtype  \n",
            "---  ------            --------------  -----  \n",
            " 0   children          21525 non-null  int64  \n",
            " 1   days_employed     19351 non-null  float64\n",
            " 2   dob_years         21525 non-null  int64  \n",
            " 3   education         21525 non-null  object \n",
            " 4   education_id      21525 non-null  int64  \n",
            " 5   family_status     21525 non-null  object \n",
            " 6   family_status_id  21525 non-null  int64  \n",
            " 7   gender            21525 non-null  object \n",
            " 8   income_type       21525 non-null  object \n",
            " 9   debt              21525 non-null  int64  \n",
            " 10  total_income      19351 non-null  float64\n",
            " 11  purpose           21525 non-null  object \n",
            "dtypes: float64(2), int64(5), object(5)\n",
            "memory usage: 2.0+ MB\n"
          ],
          "name": "stdout"
        }
      ]
    },
    {
      "cell_type": "code",
      "metadata": {
        "colab": {
          "base_uri": "https://localhost:8080/",
          "height": 297
        },
        "id": "emNJQu-9-rCe",
        "outputId": "8757a0d7-9bb7-4b16-fe78-0eafa6fba009"
      },
      "source": [
        "data.describe()"
      ],
      "execution_count": 87,
      "outputs": [
        {
          "output_type": "execute_result",
          "data": {
            "text/html": [
              "<div>\n",
              "<style scoped>\n",
              "    .dataframe tbody tr th:only-of-type {\n",
              "        vertical-align: middle;\n",
              "    }\n",
              "\n",
              "    .dataframe tbody tr th {\n",
              "        vertical-align: top;\n",
              "    }\n",
              "\n",
              "    .dataframe thead th {\n",
              "        text-align: right;\n",
              "    }\n",
              "</style>\n",
              "<table border=\"1\" class=\"dataframe\">\n",
              "  <thead>\n",
              "    <tr style=\"text-align: right;\">\n",
              "      <th></th>\n",
              "      <th>children</th>\n",
              "      <th>days_employed</th>\n",
              "      <th>dob_years</th>\n",
              "      <th>education_id</th>\n",
              "      <th>family_status_id</th>\n",
              "      <th>debt</th>\n",
              "      <th>total_income</th>\n",
              "    </tr>\n",
              "  </thead>\n",
              "  <tbody>\n",
              "    <tr>\n",
              "      <th>count</th>\n",
              "      <td>21525.000000</td>\n",
              "      <td>19351.000000</td>\n",
              "      <td>21525.000000</td>\n",
              "      <td>21525.000000</td>\n",
              "      <td>21525.000000</td>\n",
              "      <td>21525.000000</td>\n",
              "      <td>19351.000000</td>\n",
              "    </tr>\n",
              "    <tr>\n",
              "      <th>mean</th>\n",
              "      <td>0.538908</td>\n",
              "      <td>63046.497661</td>\n",
              "      <td>43.293380</td>\n",
              "      <td>0.817236</td>\n",
              "      <td>0.972544</td>\n",
              "      <td>0.080883</td>\n",
              "      <td>26787.568355</td>\n",
              "    </tr>\n",
              "    <tr>\n",
              "      <th>std</th>\n",
              "      <td>1.381587</td>\n",
              "      <td>140827.311974</td>\n",
              "      <td>12.574584</td>\n",
              "      <td>0.548138</td>\n",
              "      <td>1.420324</td>\n",
              "      <td>0.272661</td>\n",
              "      <td>16475.450632</td>\n",
              "    </tr>\n",
              "    <tr>\n",
              "      <th>min</th>\n",
              "      <td>-1.000000</td>\n",
              "      <td>-18388.949901</td>\n",
              "      <td>0.000000</td>\n",
              "      <td>0.000000</td>\n",
              "      <td>0.000000</td>\n",
              "      <td>0.000000</td>\n",
              "      <td>3306.762000</td>\n",
              "    </tr>\n",
              "    <tr>\n",
              "      <th>25%</th>\n",
              "      <td>0.000000</td>\n",
              "      <td>-2747.423625</td>\n",
              "      <td>33.000000</td>\n",
              "      <td>1.000000</td>\n",
              "      <td>0.000000</td>\n",
              "      <td>0.000000</td>\n",
              "      <td>16488.504500</td>\n",
              "    </tr>\n",
              "    <tr>\n",
              "      <th>50%</th>\n",
              "      <td>0.000000</td>\n",
              "      <td>-1203.369529</td>\n",
              "      <td>42.000000</td>\n",
              "      <td>1.000000</td>\n",
              "      <td>0.000000</td>\n",
              "      <td>0.000000</td>\n",
              "      <td>23202.870000</td>\n",
              "    </tr>\n",
              "    <tr>\n",
              "      <th>75%</th>\n",
              "      <td>1.000000</td>\n",
              "      <td>-291.095954</td>\n",
              "      <td>53.000000</td>\n",
              "      <td>1.000000</td>\n",
              "      <td>1.000000</td>\n",
              "      <td>0.000000</td>\n",
              "      <td>32549.611000</td>\n",
              "    </tr>\n",
              "    <tr>\n",
              "      <th>max</th>\n",
              "      <td>20.000000</td>\n",
              "      <td>401755.400475</td>\n",
              "      <td>75.000000</td>\n",
              "      <td>4.000000</td>\n",
              "      <td>4.000000</td>\n",
              "      <td>1.000000</td>\n",
              "      <td>362496.645000</td>\n",
              "    </tr>\n",
              "  </tbody>\n",
              "</table>\n",
              "</div>"
            ],
            "text/plain": [
              "           children  days_employed  ...          debt   total_income\n",
              "count  21525.000000   19351.000000  ...  21525.000000   19351.000000\n",
              "mean       0.538908   63046.497661  ...      0.080883   26787.568355\n",
              "std        1.381587  140827.311974  ...      0.272661   16475.450632\n",
              "min       -1.000000  -18388.949901  ...      0.000000    3306.762000\n",
              "25%        0.000000   -2747.423625  ...      0.000000   16488.504500\n",
              "50%        0.000000   -1203.369529  ...      0.000000   23202.870000\n",
              "75%        1.000000    -291.095954  ...      0.000000   32549.611000\n",
              "max       20.000000  401755.400475  ...      1.000000  362496.645000\n",
              "\n",
              "[8 rows x 7 columns]"
            ]
          },
          "metadata": {
            "tags": []
          },
          "execution_count": 87
        }
      ]
    },
    {
      "cell_type": "code",
      "metadata": {
        "colab": {
          "base_uri": "https://localhost:8080/",
          "height": 359
        },
        "id": "ZjV2GKt8-q9P",
        "outputId": "6341c363-1c7d-422f-aad8-4b73b80cf45e"
      },
      "source": [
        "data.head(10)"
      ],
      "execution_count": 88,
      "outputs": [
        {
          "output_type": "execute_result",
          "data": {
            "text/html": [
              "<div>\n",
              "<style scoped>\n",
              "    .dataframe tbody tr th:only-of-type {\n",
              "        vertical-align: middle;\n",
              "    }\n",
              "\n",
              "    .dataframe tbody tr th {\n",
              "        vertical-align: top;\n",
              "    }\n",
              "\n",
              "    .dataframe thead th {\n",
              "        text-align: right;\n",
              "    }\n",
              "</style>\n",
              "<table border=\"1\" class=\"dataframe\">\n",
              "  <thead>\n",
              "    <tr style=\"text-align: right;\">\n",
              "      <th></th>\n",
              "      <th>children</th>\n",
              "      <th>days_employed</th>\n",
              "      <th>dob_years</th>\n",
              "      <th>education</th>\n",
              "      <th>education_id</th>\n",
              "      <th>family_status</th>\n",
              "      <th>family_status_id</th>\n",
              "      <th>gender</th>\n",
              "      <th>income_type</th>\n",
              "      <th>debt</th>\n",
              "      <th>total_income</th>\n",
              "      <th>purpose</th>\n",
              "    </tr>\n",
              "  </thead>\n",
              "  <tbody>\n",
              "    <tr>\n",
              "      <th>0</th>\n",
              "      <td>1</td>\n",
              "      <td>-8437.673028</td>\n",
              "      <td>42</td>\n",
              "      <td>bachelor's degree</td>\n",
              "      <td>0</td>\n",
              "      <td>married</td>\n",
              "      <td>0</td>\n",
              "      <td>F</td>\n",
              "      <td>employee</td>\n",
              "      <td>0</td>\n",
              "      <td>40620.102</td>\n",
              "      <td>purchase of the house</td>\n",
              "    </tr>\n",
              "    <tr>\n",
              "      <th>1</th>\n",
              "      <td>1</td>\n",
              "      <td>-4024.803754</td>\n",
              "      <td>36</td>\n",
              "      <td>secondary education</td>\n",
              "      <td>1</td>\n",
              "      <td>married</td>\n",
              "      <td>0</td>\n",
              "      <td>F</td>\n",
              "      <td>employee</td>\n",
              "      <td>0</td>\n",
              "      <td>17932.802</td>\n",
              "      <td>car purchase</td>\n",
              "    </tr>\n",
              "    <tr>\n",
              "      <th>2</th>\n",
              "      <td>0</td>\n",
              "      <td>-5623.422610</td>\n",
              "      <td>33</td>\n",
              "      <td>Secondary Education</td>\n",
              "      <td>1</td>\n",
              "      <td>married</td>\n",
              "      <td>0</td>\n",
              "      <td>M</td>\n",
              "      <td>employee</td>\n",
              "      <td>0</td>\n",
              "      <td>23341.752</td>\n",
              "      <td>purchase of the house</td>\n",
              "    </tr>\n",
              "    <tr>\n",
              "      <th>3</th>\n",
              "      <td>3</td>\n",
              "      <td>-4124.747207</td>\n",
              "      <td>32</td>\n",
              "      <td>secondary education</td>\n",
              "      <td>1</td>\n",
              "      <td>married</td>\n",
              "      <td>0</td>\n",
              "      <td>M</td>\n",
              "      <td>employee</td>\n",
              "      <td>0</td>\n",
              "      <td>42820.568</td>\n",
              "      <td>supplementary education</td>\n",
              "    </tr>\n",
              "    <tr>\n",
              "      <th>4</th>\n",
              "      <td>0</td>\n",
              "      <td>340266.072047</td>\n",
              "      <td>53</td>\n",
              "      <td>secondary education</td>\n",
              "      <td>1</td>\n",
              "      <td>civil partnership</td>\n",
              "      <td>1</td>\n",
              "      <td>F</td>\n",
              "      <td>retiree</td>\n",
              "      <td>0</td>\n",
              "      <td>25378.572</td>\n",
              "      <td>to have a wedding</td>\n",
              "    </tr>\n",
              "    <tr>\n",
              "      <th>5</th>\n",
              "      <td>0</td>\n",
              "      <td>-926.185831</td>\n",
              "      <td>27</td>\n",
              "      <td>bachelor's degree</td>\n",
              "      <td>0</td>\n",
              "      <td>civil partnership</td>\n",
              "      <td>1</td>\n",
              "      <td>M</td>\n",
              "      <td>business</td>\n",
              "      <td>0</td>\n",
              "      <td>40922.170</td>\n",
              "      <td>purchase of the house</td>\n",
              "    </tr>\n",
              "    <tr>\n",
              "      <th>6</th>\n",
              "      <td>0</td>\n",
              "      <td>-2879.202052</td>\n",
              "      <td>43</td>\n",
              "      <td>bachelor's degree</td>\n",
              "      <td>0</td>\n",
              "      <td>married</td>\n",
              "      <td>0</td>\n",
              "      <td>F</td>\n",
              "      <td>business</td>\n",
              "      <td>0</td>\n",
              "      <td>38484.156</td>\n",
              "      <td>housing transactions</td>\n",
              "    </tr>\n",
              "    <tr>\n",
              "      <th>7</th>\n",
              "      <td>0</td>\n",
              "      <td>-152.779569</td>\n",
              "      <td>50</td>\n",
              "      <td>SECONDARY EDUCATION</td>\n",
              "      <td>1</td>\n",
              "      <td>married</td>\n",
              "      <td>0</td>\n",
              "      <td>M</td>\n",
              "      <td>employee</td>\n",
              "      <td>0</td>\n",
              "      <td>21731.829</td>\n",
              "      <td>education</td>\n",
              "    </tr>\n",
              "    <tr>\n",
              "      <th>8</th>\n",
              "      <td>2</td>\n",
              "      <td>-6929.865299</td>\n",
              "      <td>35</td>\n",
              "      <td>BACHELOR'S DEGREE</td>\n",
              "      <td>0</td>\n",
              "      <td>civil partnership</td>\n",
              "      <td>1</td>\n",
              "      <td>F</td>\n",
              "      <td>employee</td>\n",
              "      <td>0</td>\n",
              "      <td>15337.093</td>\n",
              "      <td>having a wedding</td>\n",
              "    </tr>\n",
              "    <tr>\n",
              "      <th>9</th>\n",
              "      <td>0</td>\n",
              "      <td>-2188.756445</td>\n",
              "      <td>41</td>\n",
              "      <td>secondary education</td>\n",
              "      <td>1</td>\n",
              "      <td>married</td>\n",
              "      <td>0</td>\n",
              "      <td>M</td>\n",
              "      <td>employee</td>\n",
              "      <td>0</td>\n",
              "      <td>23108.150</td>\n",
              "      <td>purchase of the house for my family</td>\n",
              "    </tr>\n",
              "  </tbody>\n",
              "</table>\n",
              "</div>"
            ],
            "text/plain": [
              "   children  days_employed  ...  total_income                              purpose\n",
              "0         1   -8437.673028  ...     40620.102                purchase of the house\n",
              "1         1   -4024.803754  ...     17932.802                         car purchase\n",
              "2         0   -5623.422610  ...     23341.752                purchase of the house\n",
              "3         3   -4124.747207  ...     42820.568              supplementary education\n",
              "4         0  340266.072047  ...     25378.572                    to have a wedding\n",
              "5         0    -926.185831  ...     40922.170                purchase of the house\n",
              "6         0   -2879.202052  ...     38484.156                 housing transactions\n",
              "7         0    -152.779569  ...     21731.829                            education\n",
              "8         2   -6929.865299  ...     15337.093                     having a wedding\n",
              "9         0   -2188.756445  ...     23108.150  purchase of the house for my family\n",
              "\n",
              "[10 rows x 12 columns]"
            ]
          },
          "metadata": {
            "tags": []
          },
          "execution_count": 88
        }
      ]
    },
    {
      "cell_type": "markdown",
      "metadata": {
        "id": "6J2uMFLlg4Pz"
      },
      "source": [
        "# **conclusion:**\n",
        "\n",
        "\n",
        "1.   nagative days employed and as i dont use it for my data summary i will remove this column\n",
        "2.   -1 children that i need to change\n",
        "4. probbly no one  has 20 children, change to 50% \n",
        "3. none in total income\tso i will change it to the median\n",
        "4. change education to low case\n",
        "5. alter purpose for easy categorization\n",
        "\n"
      ]
    },
    {
      "cell_type": "markdown",
      "metadata": {
        "id": "Pz2NZqk2sdG1"
      },
      "source": [
        "# **Step 2: Preprocess the data**"
      ]
    },
    {
      "cell_type": "code",
      "metadata": {
        "id": "wwDA31qJinCH"
      },
      "source": [
        "#remove non usable data\n",
        "data = data.drop('days_employed', 1)"
      ],
      "execution_count": 89,
      "outputs": []
    },
    {
      "cell_type": "code",
      "metadata": {
        "id": "GwIgXKCnlTg9"
      },
      "source": [
        "# a funcshen that changes non in total income to the income type median\n",
        "def income(row):\n",
        "    income = row[\"total_income\"]\n",
        "    if pd.isnull(income):\n",
        "      median = data.loc[data.query('income_type != \"null\"')[\"income_type\"] == row[\"income_type\"]].median()[\"total_income\"]\n",
        "      return median\n",
        "    else:\n",
        "      return row[\"total_income\"]\n",
        "\n",
        "data[\"total_income\"] = data.apply(income, axis=1)"
      ],
      "execution_count": 90,
      "outputs": []
    },
    {
      "cell_type": "code",
      "metadata": {
        "colab": {
          "base_uri": "https://localhost:8080/"
        },
        "id": "XkwTUSW_FvFl",
        "outputId": "ac4eba2c-1f5e-4604-c8d9-16e74dc9a969"
      },
      "source": [
        "data.loc[data[\"children\"]< 0][\"children\"].count()\n",
        "#there are 47 rows with -1 children\n"
      ],
      "execution_count": 91,
      "outputs": [
        {
          "output_type": "execute_result",
          "data": {
            "text/plain": [
              "47"
            ]
          },
          "metadata": {
            "tags": []
          },
          "execution_count": 91
        }
      ]
    },
    {
      "cell_type": "code",
      "metadata": {
        "colab": {
          "base_uri": "https://localhost:8080/"
        },
        "id": "nFiOhCToa00v",
        "outputId": "8a174cd7-e220-49cf-d2fc-2bf5825f0fb0"
      },
      "source": [
        "data.loc[data[\"children\"] == 20][\"children\"].count()\n",
        "#there are 76 rows with 20 children"
      ],
      "execution_count": 92,
      "outputs": [
        {
          "output_type": "execute_result",
          "data": {
            "text/plain": [
              "76"
            ]
          },
          "metadata": {
            "tags": []
          },
          "execution_count": 92
        }
      ]
    },
    {
      "cell_type": "code",
      "metadata": {
        "colab": {
          "base_uri": "https://localhost:8080/",
          "height": 297
        },
        "id": "nKzI_OrlZqRY",
        "outputId": "a0f73c00-a5be-44e4-b872-233d21252ec6"
      },
      "source": [
        "data.loc[data[\"children\"] != 20].loc[data[\"children\"] > 0].describe()"
      ],
      "execution_count": 93,
      "outputs": [
        {
          "output_type": "execute_result",
          "data": {
            "text/html": [
              "<div>\n",
              "<style scoped>\n",
              "    .dataframe tbody tr th:only-of-type {\n",
              "        vertical-align: middle;\n",
              "    }\n",
              "\n",
              "    .dataframe tbody tr th {\n",
              "        vertical-align: top;\n",
              "    }\n",
              "\n",
              "    .dataframe thead th {\n",
              "        text-align: right;\n",
              "    }\n",
              "</style>\n",
              "<table border=\"1\" class=\"dataframe\">\n",
              "  <thead>\n",
              "    <tr style=\"text-align: right;\">\n",
              "      <th></th>\n",
              "      <th>children</th>\n",
              "      <th>dob_years</th>\n",
              "      <th>education_id</th>\n",
              "      <th>family_status_id</th>\n",
              "      <th>debt</th>\n",
              "      <th>total_income</th>\n",
              "    </tr>\n",
              "  </thead>\n",
              "  <tbody>\n",
              "    <tr>\n",
              "      <th>count</th>\n",
              "      <td>7253.000000</td>\n",
              "      <td>7253.000000</td>\n",
              "      <td>7253.000000</td>\n",
              "      <td>7253.000000</td>\n",
              "      <td>7253.000000</td>\n",
              "      <td>7253.000000</td>\n",
              "    </tr>\n",
              "    <tr>\n",
              "      <th>mean</th>\n",
              "      <td>1.396250</td>\n",
              "      <td>37.523508</td>\n",
              "      <td>0.789604</td>\n",
              "      <td>0.684820</td>\n",
              "      <td>0.092238</td>\n",
              "      <td>27162.092299</td>\n",
              "    </tr>\n",
              "    <tr>\n",
              "      <th>std</th>\n",
              "      <td>0.615705</td>\n",
              "      <td>9.065211</td>\n",
              "      <td>0.562789</td>\n",
              "      <td>1.209649</td>\n",
              "      <td>0.289381</td>\n",
              "      <td>16674.100991</td>\n",
              "    </tr>\n",
              "    <tr>\n",
              "      <th>min</th>\n",
              "      <td>1.000000</td>\n",
              "      <td>0.000000</td>\n",
              "      <td>0.000000</td>\n",
              "      <td>0.000000</td>\n",
              "      <td>0.000000</td>\n",
              "      <td>3418.824000</td>\n",
              "    </tr>\n",
              "    <tr>\n",
              "      <th>25%</th>\n",
              "      <td>1.000000</td>\n",
              "      <td>31.000000</td>\n",
              "      <td>0.000000</td>\n",
              "      <td>0.000000</td>\n",
              "      <td>0.000000</td>\n",
              "      <td>17672.203000</td>\n",
              "    </tr>\n",
              "    <tr>\n",
              "      <th>50%</th>\n",
              "      <td>1.000000</td>\n",
              "      <td>37.000000</td>\n",
              "      <td>1.000000</td>\n",
              "      <td>0.000000</td>\n",
              "      <td>0.000000</td>\n",
              "      <td>23096.777000</td>\n",
              "    </tr>\n",
              "    <tr>\n",
              "      <th>75%</th>\n",
              "      <td>2.000000</td>\n",
              "      <td>42.000000</td>\n",
              "      <td>1.000000</td>\n",
              "      <td>1.000000</td>\n",
              "      <td>0.000000</td>\n",
              "      <td>31769.100000</td>\n",
              "    </tr>\n",
              "    <tr>\n",
              "      <th>max</th>\n",
              "      <td>5.000000</td>\n",
              "      <td>73.000000</td>\n",
              "      <td>4.000000</td>\n",
              "      <td>4.000000</td>\n",
              "      <td>1.000000</td>\n",
              "      <td>352136.354000</td>\n",
              "    </tr>\n",
              "  </tbody>\n",
              "</table>\n",
              "</div>"
            ],
            "text/plain": [
              "          children    dob_years  ...         debt   total_income\n",
              "count  7253.000000  7253.000000  ...  7253.000000    7253.000000\n",
              "mean      1.396250    37.523508  ...     0.092238   27162.092299\n",
              "std       0.615705     9.065211  ...     0.289381   16674.100991\n",
              "min       1.000000     0.000000  ...     0.000000    3418.824000\n",
              "25%       1.000000    31.000000  ...     0.000000   17672.203000\n",
              "50%       1.000000    37.000000  ...     0.000000   23096.777000\n",
              "75%       2.000000    42.000000  ...     0.000000   31769.100000\n",
              "max       5.000000    73.000000  ...     1.000000  352136.354000\n",
              "\n",
              "[8 rows x 6 columns]"
            ]
          },
          "metadata": {
            "tags": []
          },
          "execution_count": 93
        }
      ]
    },
    {
      "cell_type": "code",
      "metadata": {
        "id": "khJ6dQbSZFRW"
      },
      "source": [
        "data.loc[data[\"children\"] < 0,\"children\"] = 1\n",
        "data.loc[data[\"children\"] == 20, \"children\"] = 2\n",
        "#changing the -1 children to 1 and the 20 children to 2"
      ],
      "execution_count": 94,
      "outputs": []
    },
    {
      "cell_type": "code",
      "metadata": {
        "colab": {
          "base_uri": "https://localhost:8080/",
          "height": 49
        },
        "id": "9GOiReyfa485",
        "outputId": "18413ae0-5766-4696-a754-a47349771df3"
      },
      "source": [
        "#lets see if it workd\n",
        "data.loc[data[\"children\"] == 20].loc[data[\"children\"] < 0]"
      ],
      "execution_count": 95,
      "outputs": [
        {
          "output_type": "execute_result",
          "data": {
            "text/html": [
              "<div>\n",
              "<style scoped>\n",
              "    .dataframe tbody tr th:only-of-type {\n",
              "        vertical-align: middle;\n",
              "    }\n",
              "\n",
              "    .dataframe tbody tr th {\n",
              "        vertical-align: top;\n",
              "    }\n",
              "\n",
              "    .dataframe thead th {\n",
              "        text-align: right;\n",
              "    }\n",
              "</style>\n",
              "<table border=\"1\" class=\"dataframe\">\n",
              "  <thead>\n",
              "    <tr style=\"text-align: right;\">\n",
              "      <th></th>\n",
              "      <th>children</th>\n",
              "      <th>dob_years</th>\n",
              "      <th>education</th>\n",
              "      <th>education_id</th>\n",
              "      <th>family_status</th>\n",
              "      <th>family_status_id</th>\n",
              "      <th>gender</th>\n",
              "      <th>income_type</th>\n",
              "      <th>debt</th>\n",
              "      <th>total_income</th>\n",
              "      <th>purpose</th>\n",
              "    </tr>\n",
              "  </thead>\n",
              "  <tbody>\n",
              "  </tbody>\n",
              "</table>\n",
              "</div>"
            ],
            "text/plain": [
              "Empty DataFrame\n",
              "Columns: [children, dob_years, education, education_id, family_status, family_status_id, gender, income_type, debt, total_income, purpose]\n",
              "Index: []"
            ]
          },
          "metadata": {
            "tags": []
          },
          "execution_count": 95
        }
      ]
    },
    {
      "cell_type": "code",
      "metadata": {
        "colab": {
          "base_uri": "https://localhost:8080/"
        },
        "id": "-L2DLbGByqze",
        "outputId": "108c42d8-2e4a-44c9-ed6f-07a134d3fd0d"
      },
      "source": [
        "data[\"purpose\"].unique()"
      ],
      "execution_count": 96,
      "outputs": [
        {
          "output_type": "execute_result",
          "data": {
            "text/plain": [
              "array(['purchase of the house', 'car purchase', 'supplementary education',\n",
              "       'to have a wedding', 'housing transactions', 'education',\n",
              "       'having a wedding', 'purchase of the house for my family',\n",
              "       'buy real estate', 'buy commercial real estate',\n",
              "       'buy residential real estate', 'construction of own property',\n",
              "       'property', 'building a property', 'buying a second-hand car',\n",
              "       'buying my own car', 'transactions with commercial real estate',\n",
              "       'building a real estate', 'housing',\n",
              "       'transactions with my real estate', 'cars', 'to become educated',\n",
              "       'second-hand car purchase', 'getting an education', 'car',\n",
              "       'wedding ceremony', 'to get a supplementary education',\n",
              "       'purchase of my own house', 'real estate transactions',\n",
              "       'getting higher education', 'to own a car', 'purchase of a car',\n",
              "       'profile education', 'university education',\n",
              "       'buying property for renting out', 'to buy a car',\n",
              "       'housing renovation', 'going to university'], dtype=object)"
            ]
          },
          "metadata": {
            "tags": []
          },
          "execution_count": 96
        }
      ]
    },
    {
      "cell_type": "code",
      "metadata": {
        "colab": {
          "base_uri": "https://localhost:8080/"
        },
        "id": "SYmPwKhrHjcO",
        "scrolled": true,
        "outputId": "a99461ba-aa9d-4b0d-b40b-3aec7830c6c9"
      },
      "source": [
        "# unifying the education column to lowercase\n",
        "data[\"education\"] = data[\"education\"].str.lower()\n",
        "data[\"education\"].unique()"
      ],
      "execution_count": 97,
      "outputs": [
        {
          "output_type": "execute_result",
          "data": {
            "text/plain": [
              "array([\"bachelor's degree\", 'secondary education', 'some college',\n",
              "       'primary education', 'graduate degree'], dtype=object)"
            ]
          },
          "metadata": {
            "tags": []
          },
          "execution_count": 97
        }
      ]
    },
    {
      "cell_type": "code",
      "metadata": {
        "id": "y4TUzsCLtQeB"
      },
      "source": [
        "#a function that takes a list and returns a list with only the unique values\n",
        "def unique(list1):\n",
        "    unique_list = []\n",
        "    for x in list1:\n",
        "        if x not in unique_list:\n",
        "            unique_list.append(x)\n",
        "    return unique_list"
      ],
      "execution_count": 98,
      "outputs": []
    },
    {
      "cell_type": "code",
      "metadata": {
        "colab": {
          "base_uri": "https://localhost:8080/"
        },
        "id": "zBKuI0viUY0M",
        "outputId": "c53b916b-3496-447f-f645-d6fcd95b81cf"
      },
      "source": [
        "#looking at the unique stem words to find how to categorize \n",
        "list1 = []\n",
        "for query in data[\"purpose\"].unique():\n",
        "    for word in query.split(\" \"):\n",
        "        stemmed_word = english_stemmer.stem(word)\n",
        "        if stemmed_word != 'a' and stemmed_word != 'of' and stemmed_word != 'the' and stemmed_word != 'to' and stemmed_word != 'for'  and stemmed_word != 'an':\n",
        "          list1.append(stemmed_word)\n",
        "unique(list1)"
      ],
      "execution_count": 99,
      "outputs": [
        {
          "output_type": "execute_result",
          "data": {
            "text/plain": [
              "['purchas',\n",
              " 'hous',\n",
              " 'car',\n",
              " 'supplementari',\n",
              " 'educ',\n",
              " 'have',\n",
              " 'wed',\n",
              " 'transact',\n",
              " 'my',\n",
              " 'famili',\n",
              " 'buy',\n",
              " 'real',\n",
              " 'estat',\n",
              " 'commerci',\n",
              " 'residenti',\n",
              " 'construct',\n",
              " 'own',\n",
              " 'properti',\n",
              " 'build',\n",
              " 'second-hand',\n",
              " 'with',\n",
              " 'becom',\n",
              " 'get',\n",
              " 'ceremoni',\n",
              " 'higher',\n",
              " 'profil',\n",
              " 'univers',\n",
              " 'rent',\n",
              " 'out',\n",
              " 'renov',\n",
              " 'go']"
            ]
          },
          "metadata": {
            "tags": []
          },
          "execution_count": 99
        }
      ]
    },
    {
      "cell_type": "code",
      "metadata": {
        "id": "9y8PgjMyJiYV"
      },
      "source": [
        "#create a new column of the description of the purpose of the porches for an easy categorization\n",
        "def purpose_stem(row):\n",
        "  purpose =  row[\"purpose\"]\n",
        "  for word in purpose.split(\" \"):\n",
        "      stemmed_word = english_stemmer.stem(word)\n",
        "      if stemmed_word == 'estat' or stemmed_word == 'hous' or stemmed_word == 'properti':\n",
        "          return \"real estate\"\n",
        "      elif stemmed_word == 'educ' or stemmed_word == \"univers\":\n",
        "        return \"education\"\n",
        "      elif stemmed_word == 'wed':\n",
        "        return \"wedding\"\n",
        "      elif stemmed_word == 'car':\n",
        "        return \"car\"\n",
        "\n",
        "data[\"purpose_stem\"] = data.apply(purpose_stem, axis=1)"
      ],
      "execution_count": 100,
      "outputs": []
    },
    {
      "cell_type": "code",
      "metadata": {
        "colab": {
          "base_uri": "https://localhost:8080/"
        },
        "id": "nWRFmQDgvp_7",
        "outputId": "cebeea1a-d048-4bbe-cadf-f3e78e08d9f5"
      },
      "source": [
        "data[\"purpose_stem\"].unique()"
      ],
      "execution_count": 101,
      "outputs": [
        {
          "output_type": "execute_result",
          "data": {
            "text/plain": [
              "array(['real estate', 'car', 'education', 'wedding'], dtype=object)"
            ]
          },
          "metadata": {
            "tags": []
          },
          "execution_count": 101
        }
      ]
    },
    {
      "cell_type": "code",
      "metadata": {
        "colab": {
          "base_uri": "https://localhost:8080/",
          "height": 297
        },
        "id": "kDGI1grrSsRf",
        "outputId": "02eecebf-b352-4ca5-a303-25c12438826c"
      },
      "source": [
        "data.describe()"
      ],
      "execution_count": 102,
      "outputs": [
        {
          "output_type": "execute_result",
          "data": {
            "text/html": [
              "<div>\n",
              "<style scoped>\n",
              "    .dataframe tbody tr th:only-of-type {\n",
              "        vertical-align: middle;\n",
              "    }\n",
              "\n",
              "    .dataframe tbody tr th {\n",
              "        vertical-align: top;\n",
              "    }\n",
              "\n",
              "    .dataframe thead th {\n",
              "        text-align: right;\n",
              "    }\n",
              "</style>\n",
              "<table border=\"1\" class=\"dataframe\">\n",
              "  <thead>\n",
              "    <tr style=\"text-align: right;\">\n",
              "      <th></th>\n",
              "      <th>children</th>\n",
              "      <th>dob_years</th>\n",
              "      <th>education_id</th>\n",
              "      <th>family_status_id</th>\n",
              "      <th>debt</th>\n",
              "      <th>total_income</th>\n",
              "    </tr>\n",
              "  </thead>\n",
              "  <tbody>\n",
              "    <tr>\n",
              "      <th>count</th>\n",
              "      <td>21525.000000</td>\n",
              "      <td>21525.000000</td>\n",
              "      <td>21525.000000</td>\n",
              "      <td>21525.000000</td>\n",
              "      <td>21525.000000</td>\n",
              "      <td>21525.000000</td>\n",
              "    </tr>\n",
              "    <tr>\n",
              "      <th>mean</th>\n",
              "      <td>0.479721</td>\n",
              "      <td>43.293380</td>\n",
              "      <td>0.817236</td>\n",
              "      <td>0.972544</td>\n",
              "      <td>0.080883</td>\n",
              "      <td>26436.051922</td>\n",
              "    </tr>\n",
              "    <tr>\n",
              "      <th>std</th>\n",
              "      <td>0.755528</td>\n",
              "      <td>12.574584</td>\n",
              "      <td>0.548138</td>\n",
              "      <td>1.420324</td>\n",
              "      <td>0.272661</td>\n",
              "      <td>15686.986477</td>\n",
              "    </tr>\n",
              "    <tr>\n",
              "      <th>min</th>\n",
              "      <td>0.000000</td>\n",
              "      <td>0.000000</td>\n",
              "      <td>0.000000</td>\n",
              "      <td>0.000000</td>\n",
              "      <td>0.000000</td>\n",
              "      <td>3306.762000</td>\n",
              "    </tr>\n",
              "    <tr>\n",
              "      <th>25%</th>\n",
              "      <td>0.000000</td>\n",
              "      <td>33.000000</td>\n",
              "      <td>1.000000</td>\n",
              "      <td>0.000000</td>\n",
              "      <td>0.000000</td>\n",
              "      <td>17247.708000</td>\n",
              "    </tr>\n",
              "    <tr>\n",
              "      <th>50%</th>\n",
              "      <td>0.000000</td>\n",
              "      <td>42.000000</td>\n",
              "      <td>1.000000</td>\n",
              "      <td>0.000000</td>\n",
              "      <td>0.000000</td>\n",
              "      <td>22815.103500</td>\n",
              "    </tr>\n",
              "    <tr>\n",
              "      <th>75%</th>\n",
              "      <td>1.000000</td>\n",
              "      <td>53.000000</td>\n",
              "      <td>1.000000</td>\n",
              "      <td>1.000000</td>\n",
              "      <td>0.000000</td>\n",
              "      <td>31287.991000</td>\n",
              "    </tr>\n",
              "    <tr>\n",
              "      <th>max</th>\n",
              "      <td>5.000000</td>\n",
              "      <td>75.000000</td>\n",
              "      <td>4.000000</td>\n",
              "      <td>4.000000</td>\n",
              "      <td>1.000000</td>\n",
              "      <td>362496.645000</td>\n",
              "    </tr>\n",
              "  </tbody>\n",
              "</table>\n",
              "</div>"
            ],
            "text/plain": [
              "           children     dob_years  ...          debt   total_income\n",
              "count  21525.000000  21525.000000  ...  21525.000000   21525.000000\n",
              "mean       0.479721     43.293380  ...      0.080883   26436.051922\n",
              "std        0.755528     12.574584  ...      0.272661   15686.986477\n",
              "min        0.000000      0.000000  ...      0.000000    3306.762000\n",
              "25%        0.000000     33.000000  ...      0.000000   17247.708000\n",
              "50%        0.000000     42.000000  ...      0.000000   22815.103500\n",
              "75%        1.000000     53.000000  ...      0.000000   31287.991000\n",
              "max        5.000000     75.000000  ...      1.000000  362496.645000\n",
              "\n",
              "[8 rows x 6 columns]"
            ]
          },
          "metadata": {
            "tags": []
          },
          "execution_count": 102
        }
      ]
    },
    {
      "cell_type": "code",
      "metadata": {
        "id": "9WZdG2uXSQ0h",
        "scrolled": false
      },
      "source": [
        "#create a new column  for income of the porches for an easy categorization\n",
        "#categorization income by the ta.describe() using the min, 25%, , 50% , 75% \n",
        "def income(row):\n",
        "    income = row[\"total_income\"]\n",
        "    if income <= 14179:\n",
        "        return \"low earner\"\n",
        "    elif 14179 < income <= 21683 :\n",
        "        return \"under average earner\"\n",
        "    elif  21683 < income <= 31287 :\n",
        "        return \"above average earner\"\n",
        "    elif income > 31287:\n",
        "        return \"high erner\"\n",
        "\n",
        "data[\"total_income_categorie\"] = data.apply(income, axis=1)"
      ],
      "execution_count": 103,
      "outputs": []
    },
    {
      "cell_type": "code",
      "metadata": {
        "colab": {
          "base_uri": "https://localhost:8080/"
        },
        "id": "ibkspnefSmUA",
        "outputId": "2f8dd3be-3e58-488d-c340-24303334603a"
      },
      "source": [
        "data[\"total_income_categorie\"].unique()"
      ],
      "execution_count": 104,
      "outputs": [
        {
          "output_type": "execute_result",
          "data": {
            "text/plain": [
              "array(['high erner', 'under average earner', 'above average earner',\n",
              "       'low earner'], dtype=object)"
            ]
          },
          "metadata": {
            "tags": []
          },
          "execution_count": 104
        }
      ]
    },
    {
      "cell_type": "code",
      "metadata": {
        "colab": {
          "base_uri": "https://localhost:8080/"
        },
        "id": "KECxhq3wuu4W",
        "outputId": "72aaed87-73c7-4d5c-f9bc-c1d416d63f78"
      },
      "source": [
        "#preparind child data for conclusion, loking at date repaimant gropt by number of children\n",
        "chiled_status = data.groupby(\"children\")[\"debt\"].value_counts()\n",
        "chiled_status"
      ],
      "execution_count": 105,
      "outputs": [
        {
          "output_type": "execute_result",
          "data": {
            "text/plain": [
              "children  debt\n",
              "0         0       13086\n",
              "          1        1063\n",
              "1         0        4420\n",
              "          1         445\n",
              "2         0        1929\n",
              "          1         202\n",
              "3         0         303\n",
              "          1          27\n",
              "4         0          37\n",
              "          1           4\n",
              "5         0           9\n",
              "Name: debt, dtype: int64"
            ]
          },
          "metadata": {
            "tags": []
          },
          "execution_count": 105
        }
      ]
    },
    {
      "cell_type": "markdown",
      "metadata": {
        "id": "3AMnPfRB1hrB"
      },
      "source": [
        "# **conclusion:**\n",
        "\n",
        "\n",
        "1.   remove column days employed\n",
        "2.   -1 child change to 1 child\n",
        "4. 20 children change to 2 children \n",
        "3. none in total income\tchanged it to the median bt income type\n",
        "4. change education to low case\n",
        "5. alter purpose for easy categorization\n",
        "\n",
        "\n",
        "\n",
        "\n",
        "\n"
      ]
    },
    {
      "cell_type": "markdown",
      "metadata": {
        "id": "KFkU7H_G8KDv"
      },
      "source": [
        "# **Step 3: Answer these questions**\n"
      ]
    },
    {
      "cell_type": "code",
      "metadata": {
        "colab": {
          "base_uri": "https://localhost:8080/",
          "height": 235
        },
        "id": "IjvmXdbrKdKl",
        "outputId": "fc6c4408-510d-4727-edb4-e6851f9bd7f1"
      },
      "source": [
        "# Is there a connection between marital status and repaying a loan on time?\n",
        "family_status = pd.pivot_table(data, index = [\"family_status\"], columns = \"debt\", values = \"family_status_id\", aggfunc = \"count\", margins = True).reset_index()\n",
        "family_status[\"default_rate\"] = (family_status[1]/family_status[\"All\"])*100\n",
        "family_status"
      ],
      "execution_count": 106,
      "outputs": [
        {
          "output_type": "execute_result",
          "data": {
            "text/html": [
              "<div>\n",
              "<style scoped>\n",
              "    .dataframe tbody tr th:only-of-type {\n",
              "        vertical-align: middle;\n",
              "    }\n",
              "\n",
              "    .dataframe tbody tr th {\n",
              "        vertical-align: top;\n",
              "    }\n",
              "\n",
              "    .dataframe thead th {\n",
              "        text-align: right;\n",
              "    }\n",
              "</style>\n",
              "<table border=\"1\" class=\"dataframe\">\n",
              "  <thead>\n",
              "    <tr style=\"text-align: right;\">\n",
              "      <th>debt</th>\n",
              "      <th>family_status</th>\n",
              "      <th>0</th>\n",
              "      <th>1</th>\n",
              "      <th>All</th>\n",
              "      <th>default_rate</th>\n",
              "    </tr>\n",
              "  </thead>\n",
              "  <tbody>\n",
              "    <tr>\n",
              "      <th>0</th>\n",
              "      <td>civil partnership</td>\n",
              "      <td>3789</td>\n",
              "      <td>388</td>\n",
              "      <td>4177</td>\n",
              "      <td>9.288963</td>\n",
              "    </tr>\n",
              "    <tr>\n",
              "      <th>1</th>\n",
              "      <td>divorced</td>\n",
              "      <td>1110</td>\n",
              "      <td>85</td>\n",
              "      <td>1195</td>\n",
              "      <td>7.112971</td>\n",
              "    </tr>\n",
              "    <tr>\n",
              "      <th>2</th>\n",
              "      <td>married</td>\n",
              "      <td>11449</td>\n",
              "      <td>931</td>\n",
              "      <td>12380</td>\n",
              "      <td>7.520194</td>\n",
              "    </tr>\n",
              "    <tr>\n",
              "      <th>3</th>\n",
              "      <td>unmarried</td>\n",
              "      <td>2539</td>\n",
              "      <td>274</td>\n",
              "      <td>2813</td>\n",
              "      <td>9.740491</td>\n",
              "    </tr>\n",
              "    <tr>\n",
              "      <th>4</th>\n",
              "      <td>widow / widower</td>\n",
              "      <td>897</td>\n",
              "      <td>63</td>\n",
              "      <td>960</td>\n",
              "      <td>6.562500</td>\n",
              "    </tr>\n",
              "    <tr>\n",
              "      <th>5</th>\n",
              "      <td>All</td>\n",
              "      <td>19784</td>\n",
              "      <td>1741</td>\n",
              "      <td>21525</td>\n",
              "      <td>8.088269</td>\n",
              "    </tr>\n",
              "  </tbody>\n",
              "</table>\n",
              "</div>"
            ],
            "text/plain": [
              "debt      family_status      0     1    All  default_rate\n",
              "0     civil partnership   3789   388   4177      9.288963\n",
              "1              divorced   1110    85   1195      7.112971\n",
              "2               married  11449   931  12380      7.520194\n",
              "3             unmarried   2539   274   2813      9.740491\n",
              "4       widow / widower    897    63    960      6.562500\n",
              "5                   All  19784  1741  21525      8.088269"
            ]
          },
          "metadata": {
            "tags": []
          },
          "execution_count": 106
        }
      ]
    },
    {
      "cell_type": "code",
      "metadata": {
        "colab": {
          "base_uri": "https://localhost:8080/",
          "height": 370
        },
        "id": "RmWPp6mu2hR8",
        "outputId": "a92914ae-317d-4aaf-f29a-dac231e73b7b"
      },
      "source": [
        "family_status.plot(x = \"family_status\", y = \"default_rate\", kind = \"bar\")"
      ],
      "execution_count": 107,
      "outputs": [
        {
          "output_type": "execute_result",
          "data": {
            "text/plain": [
              "<matplotlib.axes._subplots.AxesSubplot at 0x7f3499cab450>"
            ]
          },
          "metadata": {
            "tags": []
          },
          "execution_count": 107
        },
        {
          "output_type": "display_data",
          "data": {
            "image/png": "[encoded data removed]",
            "text/plain": [
              "<Figure size 432x288 with 1 Axes>"
            ]
          },
          "metadata": {
            "tags": [],
            "needs_background": "light"
          }
        }
      ]
    },
    {
      "cell_type": "markdown",
      "metadata": {
        "id": "8TfnIKna23RD"
      },
      "source": [
        "1. Is there a connection between marital status and repaying a loan on time?\n",
        "  *   yes, in the graph we can see that widow / widower default rate is the "
      ]
    },
    {
      "cell_type": "code",
      "metadata": {
        "colab": {
          "base_uri": "https://localhost:8080/",
          "height": 235
        },
        "id": "ICubRLn31u1r",
        "outputId": "1fca8cd4-ff06-482f-dacd-72a4718f967f"
      },
      "source": [
        "# added this one myself, Is there a connection between education status and repaying a loan on time?\n",
        "education_status = pd.pivot_table(data, index = [\"education\"], columns = \"debt\", values = \"education_id\", aggfunc = \"count\", margins = True).reset_index()\n",
        "education_status[1] = education_status[1] .fillna(0)\n",
        "education_status[\"default_rate\"] = (education_status[1]/education_status[\"All\"])*100\n",
        "education_status"
      ],
      "execution_count": 108,
      "outputs": [
        {
          "output_type": "execute_result",
          "data": {
            "text/html": [
              "<div>\n",
              "<style scoped>\n",
              "    .dataframe tbody tr th:only-of-type {\n",
              "        vertical-align: middle;\n",
              "    }\n",
              "\n",
              "    .dataframe tbody tr th {\n",
              "        vertical-align: top;\n",
              "    }\n",
              "\n",
              "    .dataframe thead th {\n",
              "        text-align: right;\n",
              "    }\n",
              "</style>\n",
              "<table border=\"1\" class=\"dataframe\">\n",
              "  <thead>\n",
              "    <tr style=\"text-align: right;\">\n",
              "      <th>debt</th>\n",
              "      <th>education</th>\n",
              "      <th>0</th>\n",
              "      <th>1</th>\n",
              "      <th>All</th>\n",
              "      <th>default_rate</th>\n",
              "    </tr>\n",
              "  </thead>\n",
              "  <tbody>\n",
              "    <tr>\n",
              "      <th>0</th>\n",
              "      <td>bachelor's degree</td>\n",
              "      <td>4982.0</td>\n",
              "      <td>278.0</td>\n",
              "      <td>5260</td>\n",
              "      <td>5.285171</td>\n",
              "    </tr>\n",
              "    <tr>\n",
              "      <th>1</th>\n",
              "      <td>graduate degree</td>\n",
              "      <td>6.0</td>\n",
              "      <td>0.0</td>\n",
              "      <td>6</td>\n",
              "      <td>0.000000</td>\n",
              "    </tr>\n",
              "    <tr>\n",
              "      <th>2</th>\n",
              "      <td>primary education</td>\n",
              "      <td>251.0</td>\n",
              "      <td>31.0</td>\n",
              "      <td>282</td>\n",
              "      <td>10.992908</td>\n",
              "    </tr>\n",
              "    <tr>\n",
              "      <th>3</th>\n",
              "      <td>secondary education</td>\n",
              "      <td>13869.0</td>\n",
              "      <td>1364.0</td>\n",
              "      <td>15233</td>\n",
              "      <td>8.954244</td>\n",
              "    </tr>\n",
              "    <tr>\n",
              "      <th>4</th>\n",
              "      <td>some college</td>\n",
              "      <td>676.0</td>\n",
              "      <td>68.0</td>\n",
              "      <td>744</td>\n",
              "      <td>9.139785</td>\n",
              "    </tr>\n",
              "    <tr>\n",
              "      <th>5</th>\n",
              "      <td>All</td>\n",
              "      <td>19784.0</td>\n",
              "      <td>1741.0</td>\n",
              "      <td>21525</td>\n",
              "      <td>8.088269</td>\n",
              "    </tr>\n",
              "  </tbody>\n",
              "</table>\n",
              "</div>"
            ],
            "text/plain": [
              "debt            education        0       1    All  default_rate\n",
              "0       bachelor's degree   4982.0   278.0   5260      5.285171\n",
              "1         graduate degree      6.0     0.0      6      0.000000\n",
              "2       primary education    251.0    31.0    282     10.992908\n",
              "3     secondary education  13869.0  1364.0  15233      8.954244\n",
              "4            some college    676.0    68.0    744      9.139785\n",
              "5                     All  19784.0  1741.0  21525      8.088269"
            ]
          },
          "metadata": {
            "tags": []
          },
          "execution_count": 108
        }
      ]
    },
    {
      "cell_type": "code",
      "metadata": {
        "colab": {
          "base_uri": "https://localhost:8080/",
          "height": 374
        },
        "id": "E76q4IUK2lf3",
        "outputId": "cc0850f6-ec7b-4c76-b901-094c59493d2c"
      },
      "source": [
        "education_status.plot(x = \"education\", y = \"default_rate\", kind = \"bar\");"
      ],
      "execution_count": 109,
      "outputs": [
        {
          "output_type": "display_data",
          "data": {
            "image/png": "[encoded data removed]",
            "text/plain": [
              "<Figure size 432x288 with 1 Axes>"
            ]
          },
          "metadata": {
            "tags": [],
            "needs_background": "light"
          }
        }
      ]
    },
    {
      "cell_type": "markdown",
      "metadata": {
        "id": "mkyW2Xyf3C5w"
      },
      "source": [
        "2. added this one myself, Is there a connection between education status and repaying a loan on time?\n",
        "  *   yes, in the graph we can see that people with bachelor's degree default rate is the lowest and primary education is the highest\n",
        "  * and i feel like we don't have enough information on graduate degree\tbecause the sample size is too small"
      ]
    },
    {
      "cell_type": "code",
      "metadata": {
        "colab": {
          "base_uri": "https://localhost:8080/",
          "height": 204
        },
        "id": "8hluXlyUMgnk",
        "outputId": "57a45f45-d62e-44a7-bad5-a1e7cf4bf4e7"
      },
      "source": [
        "#How do different loan purposes affect on-time loan repayment?\n",
        "purpose_status = pd.pivot_table(data, index = [\"purpose_stem\"], columns = \"debt\", values = \"purpose\", aggfunc = \"count\", margins = True).reset_index()\n",
        "purpose_status[\"default_rate\"] = (purpose_status[1]/purpose_status[\"All\"])*100\n",
        "purpose_status"
      ],
      "execution_count": 110,
      "outputs": [
        {
          "output_type": "execute_result",
          "data": {
            "text/html": [
              "<div>\n",
              "<style scoped>\n",
              "    .dataframe tbody tr th:only-of-type {\n",
              "        vertical-align: middle;\n",
              "    }\n",
              "\n",
              "    .dataframe tbody tr th {\n",
              "        vertical-align: top;\n",
              "    }\n",
              "\n",
              "    .dataframe thead th {\n",
              "        text-align: right;\n",
              "    }\n",
              "</style>\n",
              "<table border=\"1\" class=\"dataframe\">\n",
              "  <thead>\n",
              "    <tr style=\"text-align: right;\">\n",
              "      <th>debt</th>\n",
              "      <th>purpose_stem</th>\n",
              "      <th>0</th>\n",
              "      <th>1</th>\n",
              "      <th>All</th>\n",
              "      <th>default_rate</th>\n",
              "    </tr>\n",
              "  </thead>\n",
              "  <tbody>\n",
              "    <tr>\n",
              "      <th>0</th>\n",
              "      <td>car</td>\n",
              "      <td>3912</td>\n",
              "      <td>403</td>\n",
              "      <td>4315</td>\n",
              "      <td>9.339513</td>\n",
              "    </tr>\n",
              "    <tr>\n",
              "      <th>1</th>\n",
              "      <td>education</td>\n",
              "      <td>3652</td>\n",
              "      <td>370</td>\n",
              "      <td>4022</td>\n",
              "      <td>9.199403</td>\n",
              "    </tr>\n",
              "    <tr>\n",
              "      <th>2</th>\n",
              "      <td>real estate</td>\n",
              "      <td>10058</td>\n",
              "      <td>782</td>\n",
              "      <td>10840</td>\n",
              "      <td>7.214022</td>\n",
              "    </tr>\n",
              "    <tr>\n",
              "      <th>3</th>\n",
              "      <td>wedding</td>\n",
              "      <td>2162</td>\n",
              "      <td>186</td>\n",
              "      <td>2348</td>\n",
              "      <td>7.921635</td>\n",
              "    </tr>\n",
              "    <tr>\n",
              "      <th>4</th>\n",
              "      <td>All</td>\n",
              "      <td>19784</td>\n",
              "      <td>1741</td>\n",
              "      <td>21525</td>\n",
              "      <td>8.088269</td>\n",
              "    </tr>\n",
              "  </tbody>\n",
              "</table>\n",
              "</div>"
            ],
            "text/plain": [
              "debt purpose_stem      0     1    All  default_rate\n",
              "0             car   3912   403   4315      9.339513\n",
              "1       education   3652   370   4022      9.199403\n",
              "2     real estate  10058   782  10840      7.214022\n",
              "3         wedding   2162   186   2348      7.921635\n",
              "4             All  19784  1741  21525      8.088269"
            ]
          },
          "metadata": {
            "tags": []
          },
          "execution_count": 110
        }
      ]
    },
    {
      "cell_type": "code",
      "metadata": {
        "colab": {
          "base_uri": "https://localhost:8080/",
          "height": 323
        },
        "id": "8oo0TrjX2mQQ",
        "outputId": "ad955379-e6fa-4bb9-9916-74a458a5f7a0"
      },
      "source": [
        "purpose_status.plot(x = \"purpose_stem\", y = \"default_rate\", kind = \"bar\");"
      ],
      "execution_count": 111,
      "outputs": [
        {
          "output_type": "display_data",
          "data": {
            "image/png": "[encoded data removed]",
            "text/plain": [
              "<Figure size 432x288 with 1 Axes>"
            ]
          },
          "metadata": {
            "tags": [],
            "needs_background": "light"
          }
        }
      ]
    },
    {
      "cell_type": "markdown",
      "metadata": {
        "id": "TFJ7dXz03HcN"
      },
      "source": [
        "3. How do different loan purposes affect on-time loan repayment?\n",
        "  *   yes, in the graph we can see that real estate default rate is the lowest and car is the highest"
      ]
    },
    {
      "cell_type": "code",
      "metadata": {
        "colab": {
          "base_uri": "https://localhost:8080/",
          "height": 204
        },
        "id": "wp0qkrG0RVby",
        "outputId": "4f0b0e62-bbba-4289-aedd-43938ccf82c3"
      },
      "source": [
        "#Is there a connection between income level and repaying a loan on time?\n",
        "income_status= pd.pivot_table(data, index = [\"total_income_categorie\"], columns = \"debt\", values= \"total_income\", aggfunc = \"count\", margins = True).reset_index()\n",
        "income_status[\"default_rate\"] = (income_status[1]/income_status[\"All\"])*100\n",
        "income_status"
      ],
      "execution_count": 112,
      "outputs": [
        {
          "output_type": "execute_result",
          "data": {
            "text/html": [
              "<div>\n",
              "<style scoped>\n",
              "    .dataframe tbody tr th:only-of-type {\n",
              "        vertical-align: middle;\n",
              "    }\n",
              "\n",
              "    .dataframe tbody tr th {\n",
              "        vertical-align: top;\n",
              "    }\n",
              "\n",
              "    .dataframe thead th {\n",
              "        text-align: right;\n",
              "    }\n",
              "</style>\n",
              "<table border=\"1\" class=\"dataframe\">\n",
              "  <thead>\n",
              "    <tr style=\"text-align: right;\">\n",
              "      <th>debt</th>\n",
              "      <th>total_income_categorie</th>\n",
              "      <th>0</th>\n",
              "      <th>1</th>\n",
              "      <th>All</th>\n",
              "      <th>default_rate</th>\n",
              "    </tr>\n",
              "  </thead>\n",
              "  <tbody>\n",
              "    <tr>\n",
              "      <th>0</th>\n",
              "      <td>above average earner</td>\n",
              "      <td>6520</td>\n",
              "      <td>621</td>\n",
              "      <td>7141</td>\n",
              "      <td>8.696261</td>\n",
              "    </tr>\n",
              "    <tr>\n",
              "      <th>1</th>\n",
              "      <td>high erner</td>\n",
              "      <td>4996</td>\n",
              "      <td>386</td>\n",
              "      <td>5382</td>\n",
              "      <td>7.172055</td>\n",
              "    </tr>\n",
              "    <tr>\n",
              "      <th>2</th>\n",
              "      <td>low earner</td>\n",
              "      <td>2962</td>\n",
              "      <td>247</td>\n",
              "      <td>3209</td>\n",
              "      <td>7.697102</td>\n",
              "    </tr>\n",
              "    <tr>\n",
              "      <th>3</th>\n",
              "      <td>under average earner</td>\n",
              "      <td>5306</td>\n",
              "      <td>487</td>\n",
              "      <td>5793</td>\n",
              "      <td>8.406698</td>\n",
              "    </tr>\n",
              "    <tr>\n",
              "      <th>4</th>\n",
              "      <td>All</td>\n",
              "      <td>19784</td>\n",
              "      <td>1741</td>\n",
              "      <td>21525</td>\n",
              "      <td>8.088269</td>\n",
              "    </tr>\n",
              "  </tbody>\n",
              "</table>\n",
              "</div>"
            ],
            "text/plain": [
              "debt total_income_categorie      0     1    All  default_rate\n",
              "0      above average earner   6520   621   7141      8.696261\n",
              "1                high erner   4996   386   5382      7.172055\n",
              "2                low earner   2962   247   3209      7.697102\n",
              "3      under average earner   5306   487   5793      8.406698\n",
              "4                       All  19784  1741  21525      8.088269"
            ]
          },
          "metadata": {
            "tags": []
          },
          "execution_count": 112
        }
      ]
    },
    {
      "cell_type": "code",
      "metadata": {
        "colab": {
          "base_uri": "https://localhost:8080/",
          "height": 381
        },
        "id": "sglnyLBV2rtV",
        "outputId": "59564387-4a06-4a43-9bc1-142e35970417"
      },
      "source": [
        "income_status.plot(x = \"total_income_categorie\", y = \"default_rate\", kind = \"bar\");"
      ],
      "execution_count": 113,
      "outputs": [
        {
          "output_type": "display_data",
          "data": {
            "image/png": "[encoded data removed]",
            "text/plain": [
              "<Figure size 432x288 with 1 Axes>"
            ]
          },
          "metadata": {
            "tags": [],
            "needs_background": "light"
          }
        }
      ]
    },
    {
      "cell_type": "markdown",
      "metadata": {
        "id": "uFOlstL63VG1"
      },
      "source": [
        ". Is there a connection between income level and repaying a loan on time?\n",
        "  *   yes but the conacshen is not that strong, in the graph we can see that high erner default rate is the lowest and above average earner is the highest(should look at it as it contradicts intuition)"
      ]
    },
    {
      "cell_type": "code",
      "metadata": {
        "colab": {
          "base_uri": "https://localhost:8080/",
          "height": 266
        },
        "id": "TwT7INR1aU_l",
        "outputId": "cbbe4641-706d-4d1b-ad29-32a1e9a1001d"
      },
      "source": [
        "#Is there a connection between having kids and repaying a loan on time?\n",
        "#i created a new tabel withe the number of children and the default_rate usind chiled_status vairbal i created before\n",
        "num_of_children = [0, 1, 2, 3 ,4 ,5]\n",
        "children_default_rate = []\n",
        "all = 0\n",
        "for i in range(len(num_of_children)):\n",
        "  if i != 5:\n",
        "     children_default_rate.append([i, (chiled_status[i][1]/chiled_status[i][0])*100])\n",
        "     all += (chiled_status[i][1]/chiled_status[i][0])*100\n",
        "  else:\n",
        "    children_default_rate.append([5, 0])\n",
        "children_default_rate.append([\"ALL\", all/5])\n",
        "children_status = pd.DataFrame(children_default_rate, columns = ['children', \"default_rate\"])\n",
        "children_status\n",
        "#i dont feel like this is the most elagent way to solve this problem, any suggestion for better algorithm?"
      ],
      "execution_count": 114,
      "outputs": [
        {
          "output_type": "execute_result",
          "data": {
            "text/html": [
              "<div>\n",
              "<style scoped>\n",
              "    .dataframe tbody tr th:only-of-type {\n",
              "        vertical-align: middle;\n",
              "    }\n",
              "\n",
              "    .dataframe tbody tr th {\n",
              "        vertical-align: top;\n",
              "    }\n",
              "\n",
              "    .dataframe thead th {\n",
              "        text-align: right;\n",
              "    }\n",
              "</style>\n",
              "<table border=\"1\" class=\"dataframe\">\n",
              "  <thead>\n",
              "    <tr style=\"text-align: right;\">\n",
              "      <th></th>\n",
              "      <th>children</th>\n",
              "      <th>default_rate</th>\n",
              "    </tr>\n",
              "  </thead>\n",
              "  <tbody>\n",
              "    <tr>\n",
              "      <th>0</th>\n",
              "      <td>0</td>\n",
              "      <td>8.123185</td>\n",
              "    </tr>\n",
              "    <tr>\n",
              "      <th>1</th>\n",
              "      <td>1</td>\n",
              "      <td>10.067873</td>\n",
              "    </tr>\n",
              "    <tr>\n",
              "      <th>2</th>\n",
              "      <td>2</td>\n",
              "      <td>10.471747</td>\n",
              "    </tr>\n",
              "    <tr>\n",
              "      <th>3</th>\n",
              "      <td>3</td>\n",
              "      <td>8.910891</td>\n",
              "    </tr>\n",
              "    <tr>\n",
              "      <th>4</th>\n",
              "      <td>4</td>\n",
              "      <td>10.810811</td>\n",
              "    </tr>\n",
              "    <tr>\n",
              "      <th>5</th>\n",
              "      <td>5</td>\n",
              "      <td>0.000000</td>\n",
              "    </tr>\n",
              "    <tr>\n",
              "      <th>6</th>\n",
              "      <td>ALL</td>\n",
              "      <td>9.676901</td>\n",
              "    </tr>\n",
              "  </tbody>\n",
              "</table>\n",
              "</div>"
            ],
            "text/plain": [
              "  children  default_rate\n",
              "0        0      8.123185\n",
              "1        1     10.067873\n",
              "2        2     10.471747\n",
              "3        3      8.910891\n",
              "4        4     10.810811\n",
              "5        5      0.000000\n",
              "6      ALL      9.676901"
            ]
          },
          "metadata": {
            "tags": []
          },
          "execution_count": 114
        }
      ]
    },
    {
      "cell_type": "code",
      "metadata": {
        "colab": {
          "base_uri": "https://localhost:8080/",
          "height": 287
        },
        "id": "ScF_w3IS2u--",
        "outputId": "4930ddc8-cd00-4d61-ddfd-a3da7db60f74"
      },
      "source": [
        "children_status.plot(x = \"children\" , y = \"default_rate\", kind = \"bar\");"
      ],
      "execution_count": 115,
      "outputs": [
        {
          "output_type": "display_data",
          "data": {
            "image/png": "[encoded data removed]",
            "text/plain": [
              "<Figure size 432x288 with 1 Axes>"
            ]
          },
          "metadata": {
            "tags": [],
            "needs_background": "light"
          }
        }
      ]
    },
    {
      "cell_type": "markdown",
      "metadata": {
        "id": "zXKohnoN3mRc"
      },
      "source": [
        "5. Is there a connection between having kids and repaying a loan on time?\n",
        "  *   yes, in the graph we can see that no children an 1 child default rate is the lowest and 4 children is the highest(should look at it as it contradicts intuition)\n",
        "  * and i feel like we don't have enough information on 5 children because the sample size is too small"
      ]
    },
    {
      "cell_type": "markdown",
      "metadata": {
        "id": "tf7srOvGcvcs"
      },
      "source": [
        "# **Step 4: Write an overall conclusion**"
      ]
    },
    {
      "cell_type": "markdown",
      "metadata": {
        "id": "Zka4Ni38cyFg"
      },
      "source": [
        "1.   remove column days employed\n",
        "2.   -1 child change to 1 child\n",
        "4. 20 children change to 2 children \n",
        "3. none in total income\tchanged it to the median bt income type\n",
        "4. change education to low case\n",
        "5. alter purpose for easy categorization\n",
        "6. created pivot tables for every question I researched and a graph\n",
        "\n",
        "we have learned that the most reliable people we should give debt to are divorset people, people with bachelor's degree for real estate, high earners with no children\n",
        "\n"
      ]
    }
  ]
}